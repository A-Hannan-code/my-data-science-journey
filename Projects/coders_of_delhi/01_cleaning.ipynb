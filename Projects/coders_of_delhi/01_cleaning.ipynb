{
 "cells": [
  {
   "cell_type": "code",
   "execution_count": 2,
   "id": "e8c8a079-b3d6-4074-8262-b9ee18602dec",
   "metadata": {},
   "outputs": [],
   "source": [
    "import json"
   ]
  },
  {
   "cell_type": "code",
   "execution_count": 6,
   "id": "1979d98e-9bb9-4d25-8d85-d0f5d6fd8e78",
   "metadata": {},
   "outputs": [],
   "source": [
    "def load_data(filename):\n",
    "    with open(filename, 'r')as f:\n",
    "        data = json.load(f)\n",
    "    return data\n",
    "data = load_data(\"massive_data.json\")"
   ]
  },
  {
   "cell_type": "code",
   "execution_count": 7,
   "id": "6a9158d4-c181-4836-89ad-c41c29b85135",
   "metadata": {},
   "outputs": [
    {
     "name": "stdout",
     "output_type": "stream",
     "text": [
      "\n",
      "Users and their connections.\n",
      "ID:1 - Amit is friends with: Priya, Rahul, Sara, Neha, Vikram and the liked pages are Python Developers, Data Science Enthusiasts.\n",
      "ID:2 - Priya is friends with: Amit, Rahul, Neha, Vikram, Kunal and the liked pages are Data Science Enthusiasts, AI & ML Community.\n",
      "ID:3 - Rahul is friends with: Amit, Priya, Sara, Kunal, Anjali and the liked pages are Python Developers, AI & ML Community.\n",
      "ID:4 - Sara is friends with: Amit, Rahul, Vikram, Anjali, Ravi and the liked pages are Web Dev Hub.\n",
      "ID:5 - Neha is friends with: Amit, Priya, Vikram, Sneha, Arjun and the liked pages are Data Science Enthusiasts, Blockchain Innovators.\n",
      "ID:6 - Vikram is friends with: Amit, Priya, Sara, Neha, Meera and the liked pages are Cybersecurity Experts.\n",
      "ID:7 - Kunal is friends with: Priya, Rahul, Anjali, Ravi, Kabir and the liked pages are Python Developers, Cloud Computing Pros.\n",
      "ID:8 - Anjali is friends with: Rahul, Sara, Kunal, Sneha, Tanya and the liked pages are AI & ML Community, Competitive Programmers.\n",
      "ID:9 - Ravi is friends with: Sara, Kunal, Sneha, Arjun, Varun and the liked pages are Web Dev Hub, Startup Founders.\n",
      "ID:10 - Sneha is friends with: Neha, Anjali, Ravi, Meera, Rhea and the liked pages are UI/UX Designers.\n",
      "ID:11 - Arjun is friends with: Neha, Ravi, Meera, Tanya, Ishan and the liked pages are Blockchain Innovators, Full-Stack Developers.\n",
      "ID:12 - Meera is friends with: Vikram, Sneha, Arjun, Kabir, Simran and the liked pages are Tech Entrepreneurs.\n",
      "ID:13 - Kabir is friends with: Kunal, Meera, Tanya, Varun, Pooja and the liked pages are Cybersecurity Experts, IoT Enthusiasts.\n",
      "ID:14 - Tanya is friends with: Anjali, Arjun, Kabir, Rhea, Yash and the liked pages are Game Developers.\n",
      "ID:15 - Varun is friends with: Ravi, Kabir, Rhea, Ishan, Ananya and the liked pages are Cloud Computing Pros, Big Data Analysts.\n",
      "ID:16 - Rhea is friends with: Sneha, Tanya, Varun, Simran, Dev and the liked pages are DevOps Engineers.\n",
      "ID:17 - Ishan is friends with: Arjun, Varun, Simran, Pooja, Aditi and the liked pages are Competitive Programmers, Cloud AI Researchers.\n",
      "ID:18 - Simran is friends with: Meera, Rhea, Ishan, Yash, Rohan and the liked pages are 5G & Edge Computing.\n",
      "ID:19 - Pooja is friends with: Kabir, Ishan, Yash, Ananya, Nisha and the liked pages are Startup Founders, AR/VR Creators.\n",
      "ID:20 - Yash is friends with: Tanya, Simran, Pooja, Dev, Gautam and the liked pages are Freelance Coders.\n",
      "ID:21 - Ananya is friends with: Varun, Pooja, Dev, Aditi, Kriti and the liked pages are UI/UX Designers, Open Source Contributors.\n",
      "ID:22 - Dev is friends with: Rhea, Yash, Ananya, Rohan, Harsh and the liked pages are Algorithmic Traders.\n",
      "ID:23 - Aditi is friends with: Ishan, Ananya, Rohan, Nisha, Naveen and the liked pages are Full-Stack Developers, Low-Code Developers.\n",
      "ID:24 - Rohan is friends with: Simran, Dev, Aditi, Gautam, Ishita and the liked pages are Cyber Ethics Forum.\n",
      "ID:25 - Nisha is friends with: Pooja, Aditi, Gautam, Kriti, Amit and the liked pages are Tech Entrepreneurs.\n",
      "ID:26 - Gautam is friends with: Yash, Rohan, Nisha, Harsh, Rahul and the liked pages are AI Ethics & Policy.\n",
      "ID:27 - Kriti is friends with: Ananya, Nisha, Harsh, Naveen, Neha and the liked pages are IoT Enthusiasts.\n",
      "ID:28 - Harsh is friends with: Dev, Gautam, Kriti, Ishita, Kunal and the liked pages are Digital Nomads.\n",
      "ID:29 - Naveen is friends with: Aditi, Kriti, Ishita, Ravi, Arjun and the liked pages are Game Developers.\n",
      "ID:30 - Ishita is friends with: Rohan, Harsh, Naveen, Kabir, Varun and the liked pages are Women in Tech.\n"
     ]
    }
   ],
   "source": [
    "def display_data(data):\n",
    "    print(\"\\nUsers and their connections.\")\n",
    "    user_dict = {user['id']: user['name'] for user in data['users']}\n",
    "    page_dict = {page['id']: page['name'] for page in data['pages']}\n",
    "\n",
    "    for user in data['users']:\n",
    "        friend_names = [user_dict[friend] for friend in user['friends']]\n",
    "        page_names = [page_dict[page] for page in user['liked_pages']]\n",
    "\n",
    "        friend_str = \", \".join(friend_names)\n",
    "        page_str = \", \".join(page_names)\n",
    "        print(f\"ID:{user['id']} - {user['name']} is friends with: {friend_str} and the liked pages are {page_str}.\")\n",
    "           \n",
    "display_data(data)"
   ]
  },
  {
   "cell_type": "code",
   "execution_count": null,
   "id": "17c13b23-3721-4369-abb5-973629c22f0e",
   "metadata": {},
   "outputs": [],
   "source": []
  }
 ],
 "metadata": {
  "kernelspec": {
   "display_name": "Python [conda env:base] *",
   "language": "python",
   "name": "conda-base-py"
  },
  "language_info": {
   "codemirror_mode": {
    "name": "ipython",
    "version": 3
   },
   "file_extension": ".py",
   "mimetype": "text/x-python",
   "name": "python",
   "nbconvert_exporter": "python",
   "pygments_lexer": "ipython3",
   "version": "3.13.5"
  }
 },
 "nbformat": 4,
 "nbformat_minor": 5
}
