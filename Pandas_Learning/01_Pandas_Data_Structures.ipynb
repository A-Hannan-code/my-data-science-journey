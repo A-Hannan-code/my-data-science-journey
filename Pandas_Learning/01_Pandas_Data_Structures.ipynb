{
 "cells": [
  {
   "cell_type": "code",
   "execution_count": 2,
   "id": "3fade896-c772-49cb-8a6c-3bebd6cd40eb",
   "metadata": {},
   "outputs": [],
   "source": [
    "# What is Pandas????\n",
    "\n",
    "# Pandas is a python library that is used for data cleaning , transformation the data and analysis efficiently....\n",
    "\n",
    "## Pandas has two main data structures::\n",
    "\n",
    "# 1. Series ( 1D )  --> like a column in excel or a list with labels...\n",
    "\n",
    "# 2. DataFrame ( 2D )  --> like a table with rows and columns......."
   ]
  },
  {
   "cell_type": "markdown",
   "id": "2a3a540b-031f-4036-81e8-b301e90c0a0a",
   "metadata": {},
   "source": [
    "## Series  (1D) --> Labeled Array"
   ]
  },
  {
   "cell_type": "code",
   "execution_count": 34,
   "id": "82b59992-5439-4a85-bfd8-a6af5fb8b177",
   "metadata": {},
   "outputs": [
    {
     "data": {
      "text/plain": [
       "0    10\n",
       "1    20\n",
       "2    30\n",
       "3    40\n",
       "4    50\n",
       "dtype: int64"
      ]
     },
     "execution_count": 34,
     "metadata": {},
     "output_type": "execute_result"
    }
   ],
   "source": [
    "# A Series is like a list with labels (index).\n",
    "\n",
    "# creating a Series...\n",
    "import pandas as pd\n",
    "\n",
    "# from a python list...\n",
    "s = pd.Series([10,20,30,40,50])\n",
    "\n",
    "s"
   ]
  },
  {
   "cell_type": "code",
   "execution_count": 9,
   "id": "7bf92149-b46b-407e-b395-f3d4581216e1",
   "metadata": {},
   "outputs": [
    {
     "name": "stdout",
     "output_type": "stream",
     "text": [
      "60\n"
     ]
    }
   ],
   "source": [
    "# With custom index.....\n",
    "\n",
    "import pandas as pd\n",
    "\n",
    "marks = pd.Series([43,51,55,60,78,90], index=['Rohit', 'Mohid', 'Ali', 'Hannan', 'Talha', 'Saim'])\n",
    "\n",
    "# print(marks)\n",
    "# type(marks)\n",
    "print(marks['Hannan'])"
   ]
  },
  {
   "cell_type": "code",
   "execution_count": 35,
   "id": "076f9dc1-5766-4a09-a266-4213086ce0ce",
   "metadata": {},
   "outputs": [
    {
     "data": {
      "text/plain": [
       "age                20\n",
       "city       Faisalabad\n",
       "Country      Pakistan\n",
       "dtype: object"
      ]
     },
     "execution_count": 35,
     "metadata": {},
     "output_type": "execute_result"
    }
   ],
   "source": [
    "# From a Dictionary....\n",
    "\n",
    "import pandas as pd\n",
    "\n",
    "dic = pd.Series({'age': 20, 'city': 'Faisalabad', 'Country': 'Pakistan'})\n",
    "\n",
    "dic"
   ]
  },
  {
   "cell_type": "code",
   "execution_count": 32,
   "id": "6eb38c14-236b-41b0-9b02-f41e5ea92c91",
   "metadata": {},
   "outputs": [
    {
     "name": "stdout",
     "output_type": "stream",
     "text": [
      "Pakistan         10000\n",
      "Germany          23000\n",
      "Uganda           12000\n",
      "United States    32000\n",
      "India            50000\n",
      "Name: Population_millions, dtype: int64\n"
     ]
    }
   ],
   "source": [
    "import pandas as pd\n",
    "\n",
    "countries = ['Pakistan', 'Germany', 'Uganda', 'United States', 'India']\n",
    "populations_millions = [10_000, 23_000, 12_000, 32_000, 50_000]\n",
    "\n",
    "series_countries = pd.Series(data=populations_millions, index=countries, name='Population_millions')\n",
    "\n",
    "print(series_countries)"
   ]
  },
  {
   "cell_type": "markdown",
   "id": "57f24e3d-50c7-4816-8246-9f296ee11ac8",
   "metadata": {},
   "source": [
    "## Pandas DataFrame (2D)"
   ]
  },
  {
   "cell_type": "code",
   "execution_count": 33,
   "id": "b530e04e-2ca0-4768-b6ef-998b8bc547bc",
   "metadata": {},
   "outputs": [
    {
     "data": {
      "text/html": [
       "<div>\n",
       "<style scoped>\n",
       "    .dataframe tbody tr th:only-of-type {\n",
       "        vertical-align: middle;\n",
       "    }\n",
       "\n",
       "    .dataframe tbody tr th {\n",
       "        vertical-align: top;\n",
       "    }\n",
       "\n",
       "    .dataframe thead th {\n",
       "        text-align: right;\n",
       "    }\n",
       "</style>\n",
       "<table border=\"1\" class=\"dataframe\">\n",
       "  <thead>\n",
       "    <tr style=\"text-align: right;\">\n",
       "      <th></th>\n",
       "      <th>Name</th>\n",
       "      <th>Age</th>\n",
       "      <th>Country</th>\n",
       "      <th>City</th>\n",
       "    </tr>\n",
       "  </thead>\n",
       "  <tbody>\n",
       "    <tr>\n",
       "      <th>0</th>\n",
       "      <td>Hannan</td>\n",
       "      <td>20</td>\n",
       "      <td>Pakistan</td>\n",
       "      <td>Faisalabad</td>\n",
       "    </tr>\n",
       "    <tr>\n",
       "      <th>1</th>\n",
       "      <td>Mohid</td>\n",
       "      <td>22</td>\n",
       "      <td>Uk</td>\n",
       "      <td>London</td>\n",
       "    </tr>\n",
       "    <tr>\n",
       "      <th>2</th>\n",
       "      <td>Talha</td>\n",
       "      <td>18</td>\n",
       "      <td>Germany</td>\n",
       "      <td>Uganda</td>\n",
       "    </tr>\n",
       "    <tr>\n",
       "      <th>3</th>\n",
       "      <td>Abdullah</td>\n",
       "      <td>20</td>\n",
       "      <td>Pakistan</td>\n",
       "      <td>Lahore</td>\n",
       "    </tr>\n",
       "  </tbody>\n",
       "</table>\n",
       "</div>"
      ],
      "text/plain": [
       "       Name  Age   Country        City\n",
       "0    Hannan   20  Pakistan  Faisalabad\n",
       "1     Mohid   22        Uk      London\n",
       "2     Talha   18   Germany      Uganda\n",
       "3  Abdullah   20  Pakistan      Lahore"
      ]
     },
     "execution_count": 33,
     "metadata": {},
     "output_type": "execute_result"
    }
   ],
   "source": [
    "# A 2D labeled data structure like an (Excel table)..\n",
    "# Contains rows and columns...\n",
    "# Built on top of Series...\n",
    "\n",
    "import pandas as pd\n",
    "\n",
    "# from dictionary of lists..\n",
    "data = {\"Name\": ['Hannan', 'Mohid', 'Talha', 'Abdullah'],\n",
    "       \"Age\": [20, 22, 18, 20],\n",
    "       \"Country\": ['Pakistan', 'Uk', 'Germany', 'Pakistan'],\n",
    "       \"City\": ['Faisalabad', 'London', 'Uganda', 'Lahore']}\n",
    "\n",
    "df = pd.DataFrame(data)\n",
    "df"
   ]
  },
  {
   "cell_type": "code",
   "execution_count": 36,
   "id": "1fa6cbde-7509-43b6-9669-b2b6788365ac",
   "metadata": {},
   "outputs": [
    {
     "data": {
      "text/html": [
       "<div>\n",
       "<style scoped>\n",
       "    .dataframe tbody tr th:only-of-type {\n",
       "        vertical-align: middle;\n",
       "    }\n",
       "\n",
       "    .dataframe tbody tr th {\n",
       "        vertical-align: top;\n",
       "    }\n",
       "\n",
       "    .dataframe thead th {\n",
       "        text-align: right;\n",
       "    }\n",
       "</style>\n",
       "<table border=\"1\" class=\"dataframe\">\n",
       "  <thead>\n",
       "    <tr style=\"text-align: right;\">\n",
       "      <th></th>\n",
       "      <th>Name</th>\n",
       "      <th>Age</th>\n",
       "      <th>Marks</th>\n",
       "      <th>Country</th>\n",
       "    </tr>\n",
       "  </thead>\n",
       "  <tbody>\n",
       "    <tr>\n",
       "      <th>0</th>\n",
       "      <td>Hannan</td>\n",
       "      <td>20</td>\n",
       "      <td>250</td>\n",
       "      <td>Pakistan</td>\n",
       "    </tr>\n",
       "    <tr>\n",
       "      <th>1</th>\n",
       "      <td>John</td>\n",
       "      <td>25</td>\n",
       "      <td>350</td>\n",
       "      <td>Germany</td>\n",
       "    </tr>\n",
       "    <tr>\n",
       "      <th>2</th>\n",
       "      <td>Rohit</td>\n",
       "      <td>23</td>\n",
       "      <td>150</td>\n",
       "      <td>India</td>\n",
       "    </tr>\n",
       "  </tbody>\n",
       "</table>\n",
       "</div>"
      ],
      "text/plain": [
       "     Name  Age  Marks   Country\n",
       "0  Hannan   20    250  Pakistan\n",
       "1    John   25    350   Germany\n",
       "2   Rohit   23    150     India"
      ]
     },
     "execution_count": 36,
     "metadata": {},
     "output_type": "execute_result"
    }
   ],
   "source": [
    "# from list of dictionary....\n",
    "import pandas as pd\n",
    "\n",
    "data = [\n",
    "    {\"Name\": 'Hannan', \"Age\": 20, \"Marks\": 250, \"Country\": 'Pakistan'},\n",
    "    {\"Name\": 'John', \"Age\": 25, \"Marks\": 350, \"Country\": 'Germany'},\n",
    "    {\"Name\": 'Rohit', \"Age\": 23, \"Marks\": 150, \"Country\": 'India'}\n",
    "]\n",
    "\n",
    "df = pd.DataFrame(data)\n",
    "\n",
    "df"
   ]
  },
  {
   "cell_type": "code",
   "execution_count": 37,
   "id": "7c6e884d-66a5-4337-8d7b-c63e879ca398",
   "metadata": {},
   "outputs": [
    {
     "data": {
      "text/plain": [
       "Pakistan     1000\n",
       "Germany     10000\n",
       "India       20000\n",
       "Romania     80000\n",
       "Uganda      90000\n",
       "dtype: int64"
      ]
     },
     "execution_count": 37,
     "metadata": {},
     "output_type": "execute_result"
    }
   ],
   "source": [
    "import pandas as pd\n",
    "\n",
    "data = pd.Series([1_000, 10_000, 20_000, 80_000, 90_000], index=['Pakistan', 'Germany', 'India', 'Romania', 'Uganda' ])\n",
    "\n",
    "data"
   ]
  },
  {
   "cell_type": "code",
   "execution_count": 38,
   "id": "2203d122-460f-4c2d-bcee-d9ca24328d50",
   "metadata": {},
   "outputs": [
    {
     "data": {
      "text/html": [
       "<div>\n",
       "<style scoped>\n",
       "    .dataframe tbody tr th:only-of-type {\n",
       "        vertical-align: middle;\n",
       "    }\n",
       "\n",
       "    .dataframe tbody tr th {\n",
       "        vertical-align: top;\n",
       "    }\n",
       "\n",
       "    .dataframe thead th {\n",
       "        text-align: right;\n",
       "    }\n",
       "</style>\n",
       "<table border=\"1\" class=\"dataframe\">\n",
       "  <thead>\n",
       "    <tr style=\"text-align: right;\">\n",
       "      <th></th>\n",
       "      <th>Name</th>\n",
       "      <th>Age</th>\n",
       "      <th>City</th>\n",
       "    </tr>\n",
       "  </thead>\n",
       "  <tbody>\n",
       "    <tr>\n",
       "      <th>0</th>\n",
       "      <td>Hannan</td>\n",
       "      <td>20</td>\n",
       "      <td>Faisalabad</td>\n",
       "    </tr>\n",
       "    <tr>\n",
       "      <th>1</th>\n",
       "      <td>Krish</td>\n",
       "      <td>24</td>\n",
       "      <td>Lahore</td>\n",
       "    </tr>\n",
       "    <tr>\n",
       "      <th>2</th>\n",
       "      <td>Rohit</td>\n",
       "      <td>27</td>\n",
       "      <td>Dehli</td>\n",
       "    </tr>\n",
       "  </tbody>\n",
       "</table>\n",
       "</div>"
      ],
      "text/plain": [
       "     Name  Age        City\n",
       "0  Hannan   20  Faisalabad\n",
       "1   Krish   24      Lahore\n",
       "2   Rohit   27       Dehli"
      ]
     },
     "execution_count": 38,
     "metadata": {},
     "output_type": "execute_result"
    }
   ],
   "source": [
    "data = [\n",
    "    {\"Name\": 'Hannan', \"Age\": 20, \"City\": 'Faisalabad'},\n",
    "    {\"Name\": 'Krish', \"Age\": 24, \"City\": 'Lahore'},\n",
    "    {\"Name\": 'Rohit', \"Age\": 27, \"City\": 'Dehli'}\n",
    "]\n",
    "\n",
    "df = pd.DataFrame(data)\n",
    "df"
   ]
  }
 ],
 "metadata": {
  "kernelspec": {
   "display_name": "Python [conda env:base] *",
   "language": "python",
   "name": "conda-base-py"
  },
  "language_info": {
   "codemirror_mode": {
    "name": "ipython",
    "version": 3
   },
   "file_extension": ".py",
   "mimetype": "text/x-python",
   "name": "python",
   "nbconvert_exporter": "python",
   "pygments_lexer": "ipython3",
   "version": "3.13.5"
  }
 },
 "nbformat": 4,
 "nbformat_minor": 5
}
