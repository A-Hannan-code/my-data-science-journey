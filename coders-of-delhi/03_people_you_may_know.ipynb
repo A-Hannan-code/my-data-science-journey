{
 "cells": [
  {
   "cell_type": "code",
   "execution_count": 19,
   "id": "073793ea-72c6-4b9c-af74-7d7fd3731223",
   "metadata": {},
   "outputs": [],
   "source": [
    "import json"
   ]
  },
  {
   "cell_type": "code",
   "execution_count": 41,
   "id": "726e0aa8-81ce-41e2-a134-a57aabce70f5",
   "metadata": {},
   "outputs": [
    {
     "name": "stdin",
     "output_type": "stream",
     "text": [
      "Enter User id to find mutual friends:  2\n"
     ]
    },
    {
     "name": "stdout",
     "output_type": "stream",
     "text": [
      "People You May Know for User 2: [4, 8, 10, 11, 12, 9, 13].\n"
     ]
    }
   ],
   "source": [
    "def load_data(filename):\n",
    "    with open(filename, 'r')as f:\n",
    "        return json.load(f)\n",
    "        \n",
    "def people_you_may_know(user_id, data):\n",
    "    user_friends = {}\n",
    "    for user in data['users']:\n",
    "        user_friends[user['id']] = set(user['friends'])\n",
    "\n",
    "    if user_id not in user_friends:\n",
    "        return []\n",
    "    direct_friends = user_friends[user_id]\n",
    "    \n",
    "    suggestions = {}\n",
    "    for friend in direct_friends:\n",
    "        for mutual in user_friends[friend]:\n",
    "            if mutual != user_id and mutual not in direct_friends:\n",
    "                suggestions[mutual] = suggestions.get(mutual, 0) + 1\n",
    "    sorted_suggestions = sorted(suggestions.items(), key= lambda x: x[1], reverse= True)\n",
    "    return [user_id for user_id, _ in sorted_suggestions]\n",
    "\n",
    "    \n",
    "# Load data   \n",
    "data = load_data(\"massive_data.json\")\n",
    "user_id = int(input(\"Enter User id to find mutual friends: \"))\n",
    "recommendations = people_you_may_know(user_id, data)\n",
    "print(f\"People You May Know for User {user_id}: {recommendations}.\")"
   ]
  },
  {
   "cell_type": "code",
   "execution_count": null,
   "id": "f6065fab-9b71-4f51-b6f6-d29cc861295e",
   "metadata": {},
   "outputs": [],
   "source": []
  },
  {
   "cell_type": "code",
   "execution_count": null,
   "id": "ddd842d8-4764-49aa-ad53-dc7a609c91b0",
   "metadata": {},
   "outputs": [],
   "source": []
  }
 ],
 "metadata": {
  "kernelspec": {
   "display_name": "Python [conda env:base] *",
   "language": "python",
   "name": "conda-base-py"
  },
  "language_info": {
   "codemirror_mode": {
    "name": "ipython",
    "version": 3
   },
   "file_extension": ".py",
   "mimetype": "text/x-python",
   "name": "python",
   "nbconvert_exporter": "python",
   "pygments_lexer": "ipython3",
   "version": "3.13.5"
  }
 },
 "nbformat": 4,
 "nbformat_minor": 5
}
