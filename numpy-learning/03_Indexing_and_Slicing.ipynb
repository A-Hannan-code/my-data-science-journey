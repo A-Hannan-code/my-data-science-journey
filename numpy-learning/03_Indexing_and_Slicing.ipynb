{
 "cells": [
  {
   "cell_type": "markdown",
   "id": "ac2a257b-cf10-4cb6-8210-2ff51d5d1282",
   "metadata": {},
   "source": [
    "## Indexing and Slicing (Same as Python Lists)"
   ]
  },
  {
   "cell_type": "markdown",
   "id": "2345311b-209e-4c4e-8bf3-c666e7dc849d",
   "metadata": {},
   "source": [
    "###### 1. Basic Indexing & Slicing (1D Array)"
   ]
  },
  {
   "cell_type": "code",
   "execution_count": 1,
   "id": "3b8d8585-2a5e-4876-9177-0352e81092af",
   "metadata": {},
   "outputs": [
    {
     "name": "stdout",
     "output_type": "stream",
     "text": [
      "10\n",
      "50\n",
      "30\n",
      "[20 30]\n",
      "[10 20 30 40 50]\n",
      "[10 20 30 40]\n"
     ]
    }
   ],
   "source": [
    "import numpy as np\n",
    "\n",
    "arr = np.array([10,20,30,40,50])  # --> 1D\n",
    "\n",
    "# Indexing........\n",
    "print(arr[0])    # first element\n",
    "print(arr[-1])   # last element\n",
    "print(arr[2])    # 2nd element\n",
    "\n",
    "# Slicing..........\n",
    "print(arr[1:3])  # slice from 1 to 3\n",
    "print(arr[:])    # all\n",
    "print(arr[:-1])  # slice from 0 to second last\n"
   ]
  },
  {
   "cell_type": "markdown",
   "id": "820dd790-1265-47e9-9617-01ad55172a4e",
   "metadata": {},
   "source": [
    "###### 2. Indexing in 2D Arrays"
   ]
  },
  {
   "cell_type": "code",
   "execution_count": 2,
   "id": "8e1568d3-7618-4d2b-825e-c902736e259f",
   "metadata": {},
   "outputs": [
    {
     "name": "stdout",
     "output_type": "stream",
     "text": [
      "1\n",
      "16\n",
      "[1 2 3 4]\n",
      "[10 11]\n",
      "[[ 2  3]\n",
      " [ 6  7]\n",
      " [10 11]]\n",
      "[ 8 12]\n"
     ]
    }
   ],
   "source": [
    "arr = np.array([ [1,2,3,4], [5,6,7,8], [9,10,11,12], [13,14,15,16] ])  # --> 2D\n",
    "\n",
    "# Indexing........\n",
    "print(arr[0,0])     # (row 0, col 0)\n",
    "print(arr[3, -1])   # (row 3, col last)\n",
    "\n",
    "# Slicing..........\n",
    "print(arr[0, :])     # (row 0, col all)\n",
    "print(arr[2, 1:3])   # (row 2, col 1 to 3)\n",
    "print(arr[0:3, 1:3]) # (row 0 to 3, from these rows -> col 1 to 3)\n",
    "print(arr[1:3, 3])   # (from row 1 and 2, col 3)"
   ]
  },
  {
   "cell_type": "markdown",
   "id": "79aa4518-b5f9-443f-8b09-af13a4c918c4",
   "metadata": {},
   "source": [
    "###### 3. Extracting Rows and Columns"
   ]
  },
  {
   "cell_type": "code",
   "execution_count": 3,
   "id": "fe7b623f-ed6d-4444-9523-858da0412c23",
   "metadata": {},
   "outputs": [
    {
     "name": "stdout",
     "output_type": "stream",
     "text": [
      "[1 2 3 4]\n",
      "[5 6 7 8]\n",
      "[ 2  6 10 40]\n",
      "[ 4  8 12 60]\n"
     ]
    }
   ],
   "source": [
    "arr = np.array([ [1,2,3,4],\n",
    "                [5,6,7,8],\n",
    "                [9,10,11,12],\n",
    "                [30,40,50,60] ])  # --> 2D\n",
    "\n",
    "print(arr[0, :])    # first row --> [1,2,3,4]\n",
    "print(arr[1, :])    # second row --> [5,6,7,8]\n",
    "\n",
    "print(arr[:, 1])    # second col --> [2,6,10,40]\n",
    "print(arr[:, 3])    # third col  --> [4,8,12,60]"
   ]
  },
  {
   "cell_type": "code",
   "execution_count": 4,
   "id": "f7d231b1-1ef2-4ab4-be12-852aab1aa9d2",
   "metadata": {},
   "outputs": [
    {
     "name": "stdout",
     "output_type": "stream",
     "text": [
      "[10 20 30 90 50 60]\n"
     ]
    }
   ],
   "source": [
    "# Slicing.......\n",
    "arr = np.array([10,20,30,40,50,60])\n",
    "\n",
    "sliced = arr[1:4]\n",
    "sliced[2] = 90\n",
    "print(arr)   # In Python list slicing returns a copy, But In NumPy array it returns a view, not a copy,\n",
    "                                                                     # (In NumPy changes affect the original array)\n",
    "\n"
   ]
  },
  {
   "cell_type": "markdown",
   "id": "d57fab4c-4dc7-4f45-ac5d-65c9ad6facd1",
   "metadata": {},
   "source": [
    "## Fancy Indexing"
   ]
  },
  {
   "cell_type": "code",
   "execution_count": 5,
   "id": "73012e3a-0f3e-4c6b-9ce2-5a015f714ea5",
   "metadata": {},
   "outputs": [
    {
     "name": "stdout",
     "output_type": "stream",
     "text": [
      "[20 30 40]\n",
      "[50 60]\n"
     ]
    }
   ],
   "source": [
    "arr = np.array([10,20,30,40,50,60])\n",
    "\n",
    "print(arr[[1,2,3]])    # multi indexing\n",
    "\n",
    "\n",
    "idx = [4,5]\n",
    "print(arr[idx])"
   ]
  },
  {
   "cell_type": "markdown",
   "id": "f4d84d01-11ff-45f6-a2ba-5cd1c6205ca3",
   "metadata": {},
   "source": [
    "## Boolean Indexing"
   ]
  },
  {
   "cell_type": "code",
   "execution_count": 6,
   "id": "ea390f85-f947-4758-a776-82a10efc106d",
   "metadata": {},
   "outputs": [
    {
     "name": "stdout",
     "output_type": "stream",
     "text": [
      "[False False  True  True  True  True]\n",
      "[30 40 50 60]\n",
      "[False  True False  True False  True False  True]\n",
      "[2 4 6 8]\n"
     ]
    }
   ],
   "source": [
    "arr = np.array([10,20,30,40,50,60])\n",
    "\n",
    "mask = arr > 25\n",
    "print(mask)\n",
    "print(arr[mask])\n",
    "\n",
    "# find even numbers...........\n",
    "ar = np.array([1,2,3,4,5,6,7,8])\n",
    "\n",
    "even = ar %2==0\n",
    "print(even)\n",
    "print(ar[even])"
   ]
  },
  {
   "cell_type": "code",
   "execution_count": null,
   "id": "6b4140f7-6535-4777-8efa-1cd3539d9774",
   "metadata": {},
   "outputs": [],
   "source": []
  }
 ],
 "metadata": {
  "kernelspec": {
   "display_name": "Python [conda env:base] *",
   "language": "python",
   "name": "conda-base-py"
  },
  "language_info": {
   "codemirror_mode": {
    "name": "ipython",
    "version": 3
   },
   "file_extension": ".py",
   "mimetype": "text/x-python",
   "name": "python",
   "nbconvert_exporter": "python",
   "pygments_lexer": "ipython3",
   "version": "3.13.5"
  }
 },
 "nbformat": 4,
 "nbformat_minor": 5
}
