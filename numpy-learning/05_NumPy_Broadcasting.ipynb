{
 "cells": [
  {
   "cell_type": "markdown",
   "id": "726d08de-ad51-42f6-82f7-32ebd66e878d",
   "metadata": {},
   "source": [
    "## Broadcasting: Scaling Arrays without Extra Memory"
   ]
  },
  {
   "cell_type": "markdown",
   "id": "0e3083a4-f9b3-40a3-81b9-e314f286a943",
   "metadata": {},
   "source": [
    "###### Broadcasting with Arrays of Different Shapes"
   ]
  },
  {
   "cell_type": "code",
   "execution_count": 2,
   "id": "60aac0d6-b9b1-49a9-83c0-f8398ae5f8a0",
   "metadata": {},
   "outputs": [
    {
     "data": {
      "text/plain": [
       "array([13, 23, 33, 43])"
      ]
     },
     "execution_count": 2,
     "metadata": {},
     "output_type": "execute_result"
    }
   ],
   "source": [
    "import numpy as np\n",
    "\n",
    "arr = np.array([10,20,30,40])\n",
    "\n",
    "result = arr + 3\n",
    "result"
   ]
  },
  {
   "cell_type": "code",
   "execution_count": 3,
   "id": "b97b629a-9b52-4ef4-a1ed-eb3d85e28682",
   "metadata": {},
   "outputs": [
    {
     "name": "stdout",
     "output_type": "stream",
     "text": [
      "[ 6  8 10 12]\n"
     ]
    }
   ],
   "source": [
    "arr1 = np.array([1,2,3,4])\n",
    "arr2 = np.array([5,6,7,8])\n",
    "\n",
    "result = arr1 + arr2\n",
    "print(result)"
   ]
  },
  {
   "cell_type": "code",
   "execution_count": 8,
   "id": "ec10d0d9-9018-4992-8bc6-684eaa76c121",
   "metadata": {},
   "outputs": [
    {
     "name": "stdout",
     "output_type": "stream",
     "text": [
      "[[ 6  8 10 12]\n",
      " [15 26 37 48]]\n",
      "2\n"
     ]
    }
   ],
   "source": [
    "arr1 = np.array([[1,2,3,4], [10,20,30,40]])\n",
    "arr2 = np.array([5,6,7,8])\n",
    "\n",
    "result = arr1 + arr2\n",
    "print(result)\n",
    "print(result.ndim)"
   ]
  },
  {
   "cell_type": "code",
   "execution_count": null,
   "id": "05cb4b1f-b84e-4903-b857-cfca12c97bf6",
   "metadata": {},
   "outputs": [],
   "source": []
  }
 ],
 "metadata": {
  "kernelspec": {
   "display_name": "Python [conda env:base] *",
   "language": "python",
   "name": "conda-base-py"
  },
  "language_info": {
   "codemirror_mode": {
    "name": "ipython",
    "version": 3
   },
   "file_extension": ".py",
   "mimetype": "text/x-python",
   "name": "python",
   "nbconvert_exporter": "python",
   "pygments_lexer": "ipython3",
   "version": "3.13.5"
  }
 },
 "nbformat": 4,
 "nbformat_minor": 5
}
