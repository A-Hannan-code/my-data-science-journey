{
 "cells": [
  {
   "cell_type": "markdown",
   "id": "12561f83-cb2d-4039-b6bf-125859153377",
   "metadata": {},
   "source": [
    "## Multidimensional Indexing & Axis"
   ]
  },
  {
   "cell_type": "code",
   "execution_count": 5,
   "id": "0dd12a18-e02a-429c-aeb7-fc9adb207565",
   "metadata": {},
   "outputs": [
    {
     "name": "stdout",
     "output_type": "stream",
     "text": [
      "[[10 20 30]\n",
      " [40 50 60]\n",
      " [70 80 90]]\n"
     ]
    }
   ],
   "source": [
    "# Axes ... ?????\n",
    "\n",
    "# Axis 0 --> Rows direction (downwards)\n",
    "# Axis 1 --> Columns direction (across)\n",
    "# Axis 2 --> Depth (for 3D arrys,like image channels)\n",
    "# .......................................................................\n",
    "\n",
    "# for 2D (matrix)\n",
    "\n",
    "import numpy as np\n",
    "# ---> 2D\n",
    "arr = np.array([[10,20,30],\n",
    "               [40,50,60],\n",
    "                [70,80,90]\n",
    "               ])\n",
    "print(arr)"
   ]
  },
  {
   "cell_type": "code",
   "execution_count": 25,
   "id": "1a5de171-c736-4ac7-ab5b-0aaf0e16a7f3",
   "metadata": {},
   "outputs": [
    {
     "name": "stdout",
     "output_type": "stream",
     "text": [
      "[12 15 18]\n",
      "[ 6 15 24]\n"
     ]
    }
   ],
   "source": [
    "# axis 0 (down): goes through rows (top --> bottom)\n",
    "# axis 1 (across): goes through colums (left --> right)\n",
    "# ............................\n",
    "#  In short:::\n",
    "#           # axis 0 --> work down the rows --> column-wise result\n",
    "#           # axis 1 --> work across the columns --> row-wise result\n",
    "\n",
    "print(arr.sum(axis=0))    # Sum along axis 0 (down the rows ---> column sums)\n",
    "print(arr.sum(axis=1))    # Sum along axis 1 (across columns ---> row sums)"
   ]
  },
  {
   "cell_type": "code",
   "execution_count": null,
   "id": "6281810f-261d-445f-abc9-d7e184167a4d",
   "metadata": {},
   "outputs": [],
   "source": []
  },
  {
   "cell_type": "code",
   "execution_count": 26,
   "id": "e178b5a7-f788-42be-9d32-0e66f94d5c4c",
   "metadata": {},
   "outputs": [
    {
     "name": "stdout",
     "output_type": "stream",
     "text": [
      "[[1 2]\n",
      " [4 5]]\n"
     ]
    }
   ],
   "source": [
    "arr = np.array([[1,2,3],\n",
    "               [4,5,6],\n",
    "               [7,8,9]])\n",
    "\n",
    "# print(arr[0])   # first row\n",
    "# print(arr[1])   # second row\n",
    "\n",
    "# for specific element............\n",
    "# print(arr[0, 2])    # row 1 ---> column 2\n",
    "# print(arr[0:2])     # row 1 and 2\n",
    "print(arr[0:2, 0:2])  # row 1 and 2, column 1 and 2 from each row"
   ]
  },
  {
   "cell_type": "markdown",
   "id": "cc5a90f1-e7d3-4f21-8e2f-32245089791d",
   "metadata": {},
   "source": [
    "## Indexing in 3D Arrays"
   ]
  },
  {
   "cell_type": "code",
   "execution_count": 52,
   "id": "279ace83-ac32-4372-abf0-05fa533fa9e9",
   "metadata": {},
   "outputs": [
    {
     "name": "stdout",
     "output_type": "stream",
     "text": [
      "[[[ 1  2  3]\n",
      "  [ 4  5  6]]\n",
      "\n",
      " [[ 5  6  7]\n",
      "  [ 8  9 70]]]\n"
     ]
    }
   ],
   "source": [
    "# axis 0 --> operates throughh blocks \n",
    "# axis 1 --> operates throughh rows \n",
    "# axis 2 --> operates throughh columns \n",
    "\n",
    "arr = np.array([[[1,2,3], [4,5,6]],\n",
    "               [[5,6,7], [8,9,10]]])\n",
    "\n",
    "\n",
    "# print(arr[:, :, :2])\n",
    "arr[1, 1, 2] = 70\n",
    "print(arr)"
   ]
  },
  {
   "cell_type": "code",
   "execution_count": null,
   "id": "27b06f35-a063-41f7-a135-01030b103699",
   "metadata": {},
   "outputs": [],
   "source": []
  }
 ],
 "metadata": {
  "kernelspec": {
   "display_name": "Python [conda env:base] *",
   "language": "python",
   "name": "conda-base-py"
  },
  "language_info": {
   "codemirror_mode": {
    "name": "ipython",
    "version": 3
   },
   "file_extension": ".py",
   "mimetype": "text/x-python",
   "name": "python",
   "nbconvert_exporter": "python",
   "pygments_lexer": "ipython3",
   "version": "3.13.5"
  }
 },
 "nbformat": 4,
 "nbformat_minor": 5
}
