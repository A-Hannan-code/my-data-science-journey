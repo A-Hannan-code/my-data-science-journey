{
 "cells": [
  {
   "cell_type": "markdown",
   "id": "24a61e71-bc8e-4434-9913-06ea3530ffbd",
   "metadata": {},
   "source": [
    "## Why use Numpy? It's way faster than Python lists "
   ]
  },
  {
   "cell_type": "code",
   "execution_count": 8,
   "id": "31dec83a-c827-49e4-ba50-1817d3deae16",
   "metadata": {},
   "outputs": [
    {
     "data": {
      "text/plain": [
       "[(1, 6), (2, 7), (3, 8), (4, 9)]"
      ]
     },
     "execution_count": 8,
     "metadata": {},
     "output_type": "execute_result"
    }
   ],
   "source": [
    "# zip() in python\n",
    "# zip() takes two iterables and combine them element by element in pairs (or tuples).\n",
    "l1 = [1,2,3,4]\n",
    "l2 = [6,7,8,9]\n",
    "list(zip(l1,l2))\n"
   ]
  },
  {
   "cell_type": "code",
   "execution_count": 9,
   "id": "4e472ccd-7dff-4cd8-a84d-997e015a5ad2",
   "metadata": {},
   "outputs": [
    {
     "name": "stdout",
     "output_type": "stream",
     "text": [
      "[0, 2, 4, 6, 8, 10, 12, 14, 16, 18, 20, 22, 24, 26, 28, 30, 32, 34, 36, 38, 40, 42, 44, 46, 48, 50, 52, 54, 56, 58, 60, 62, 64, 66, 68, 70, 72, 74, 76, 78, 80, 82, 84, 86, 88, 90, 92, 94, 96, 98, 100, 102, 104, 106, 108, 110, 112, 114, 116, 118, 120, 122, 124, 126, 128, 130, 132, 134, 136, 138, 140, 142, 144, 146, 148, 150, 152, 154, 156, 158, 160, 162, 164, 166, 168, 170, 172, 174, 176, 178, 180, 182, 184, 186, 188, 190, 192, 194, 196, 198]\n",
      "Speed: 1.7126858234405518\n"
     ]
    }
   ],
   "source": [
    "# speed test of lists execution in python\n",
    "import numpy as np\n",
    "import time\n",
    "\n",
    "size = 1_000_000_0\n",
    "list1 = list(range(size))\n",
    "list2 = list(range(size))\n",
    "\n",
    "start = time.time()\n",
    "addition = [x + y for x,y in zip(list1, list2)]    \n",
    "end = time.time()\n",
    "print(addition[0:100])\n",
    "print(f\"Speed: {(end) - (start)}\")"
   ]
  },
  {
   "cell_type": "code",
   "execution_count": 10,
   "id": "b62009ce-6372-40ee-847c-bef5008eeb2e",
   "metadata": {},
   "outputs": [
    {
     "name": "stdout",
     "output_type": "stream",
     "text": [
      "[  0   2   4   6   8  10  12  14  16  18  20  22  24  26  28  30  32  34\n",
      "  36  38  40  42  44  46  48  50  52  54  56  58  60  62  64  66  68  70\n",
      "  72  74  76  78  80  82  84  86  88  90  92  94  96  98 100 102 104 106\n",
      " 108 110 112 114 116 118 120 122 124 126 128 130 132 134 136 138 140 142\n",
      " 144 146 148 150 152 154 156 158 160 162 164 166 168 170 172 174 176 178\n",
      " 180 182 184 186 188 190 192 194 196 198]\n",
      "Speed: 0.21931028366088867\n"
     ]
    }
   ],
   "source": [
    "# speed test of arrays execution in Numpy\n",
    "import numpy as np\n",
    "import time\n",
    "\n",
    "size = 1_000_000_0\n",
    "\n",
    "list1 = np.array(list(range(size)))\n",
    "list2 = np.array(list(range(size)))\n",
    "\n",
    "start = time.time()\n",
    "addition = list1 + list2\n",
    "end = time.time()\n",
    "print(addition[0:100])\n",
    "print(f\"Speed: {(end) - (start)}\")"
   ]
  },
  {
   "cell_type": "markdown",
   "id": "1cde154b-78b2-43f8-b19e-01fa7348e215",
   "metadata": {},
   "source": [
    "## Creating Numpy Arrays"
   ]
  },
  {
   "cell_type": "code",
   "execution_count": 11,
   "id": "b4a903d0-c6d1-40c3-b1a8-508c0ab74bd9",
   "metadata": {},
   "outputs": [
    {
     "name": "stdout",
     "output_type": "stream",
     "text": [
      "One dimensional array: [1 2 3 4 5]\n",
      "Two dimensional array: [[1 2 3 4]\n",
      " [5 6 7 8]]\n",
      "Type: <class 'numpy.ndarray'>\n",
      "Shape: (2, 4)\n"
     ]
    }
   ],
   "source": [
    "import numpy as np\n",
    "\n",
    "# creating a 1D Numpy array\n",
    "arr1 = np.array([1,2,3,4,5])\n",
    "print(f\"One dimensional array: {arr1}\")\n",
    "\n",
    "# creatng a 2D Numpy Array\n",
    "arr2 = np.array([[1,2,3,4], [5,6,7,8]])\n",
    "print(f\"Two dimensional array: {arr2}\")\n",
    "\n",
    "# checking type and shape\n",
    "print(f\"Type: {type(arr1)}\")\n",
    "print(f\"Shape: {arr2.shape}\")"
   ]
  },
  {
   "cell_type": "markdown",
   "id": "e8820816-5380-4a26-ac5d-f0ed4b00c9d5",
   "metadata": {},
   "source": [
    "## Memory efficiency Numpy vs Lists"
   ]
  },
  {
   "cell_type": "code",
   "execution_count": 12,
   "id": "cd2e4d15-86b3-4e6d-ab09-611e351d4155",
   "metadata": {},
   "outputs": [
    {
     "name": "stdout",
     "output_type": "stream",
     "text": [
      "Python list size: 8056000 bytes.\n",
      "Numpy array size: 8000 bytes.\n"
     ]
    }
   ],
   "source": [
    "import numpy as np\n",
    "import sys\n",
    "\n",
    "list_data = list(range(1_000))\n",
    "numpy_data = np.array(list_data)\n",
    "\n",
    "print(f\"Python list size: {sys.getsizeof(list_data) * len(list_data)} bytes.\")\n",
    "print(f\"Numpy array size: {numpy_data.nbytes} bytes.\")\n",
    "\n",
    "# Numpy arrays use significantly less memory compared to python lists.."
   ]
  },
  {
   "cell_type": "markdown",
   "id": "e87cd760-cbeb-4240-ab06-365f9ecfed3e",
   "metadata": {},
   "source": [
    "## Vectorization --> No More Loops"
   ]
  },
  {
   "cell_type": "code",
   "execution_count": 13,
   "id": "153cba5f-9364-4e68-acdb-699217a3c483",
   "metadata": {},
   "outputs": [
    {
     "name": "stdout",
     "output_type": "stream",
     "text": [
      "[2, 4, 6, 8, 10]\n",
      "[ 2  4  6  8 10]\n",
      "[7, 9, 11, 13, 15]\n",
      "[ 7  9 11 13 15]\n",
      "[11 12 13 14 15]\n"
     ]
    }
   ],
   "source": [
    "import numpy as np\n",
    "\n",
    "# In python way\n",
    "numbers = [1,2,3,4,5]\n",
    "doubled = [x * 2 for x in numbers]\n",
    "print(doubled)\n",
    "\n",
    "# Numpy vectorized way\n",
    "arr = np.array([1,2,3,4,5])\n",
    "doubled = arr * 2\n",
    "print(doubled)\n",
    "\n",
    "# ............................\n",
    "\n",
    "# adding two lists/array\n",
    "\n",
    "# python way\n",
    "a = [1,2,3,4,5]\n",
    "b = [6,7,8,9,10]\n",
    "c = [x+y for x,y in zip(a,b)]\n",
    "print(c)\n",
    "\n",
    "# Numpy vectorized way\n",
    "arr1 = np.array([1,2,3,4,5])\n",
    "arr2 = np.array([6,7,8,9,10])\n",
    "print(arr1 + arr2)\n",
    "\n",
    "# add 10 to every number using Numpy vectorization\n",
    "addition = arr1 + 10\n",
    "print(addition)"
   ]
  },
  {
   "cell_type": "markdown",
   "id": "bfa4a307-0577-477c-b3a4-12858ca2abfc",
   "metadata": {},
   "source": [
    "## Numpy vectorization speed test Lists/array"
   ]
  },
  {
   "cell_type": "code",
   "execution_count": 14,
   "id": "1af48f25-2150-4d31-9135-5a76277091c3",
   "metadata": {},
   "outputs": [
    {
     "name": "stdout",
     "output_type": "stream",
     "text": [
      "Speed: 0.24242 seconds\n",
      "Speed: 0.00474 seconds\n"
     ]
    }
   ],
   "source": [
    "import numpy as np\n",
    "import time\n",
    "# In python way\n",
    "a = list(range(1_000_000))\n",
    "start = time.time()\n",
    "b = [x**2 for x in a]\n",
    "end = time.time()\n",
    "print(f\"Speed: {(end) - (start):.5f} seconds\")\n",
    "\n",
    "# In Numpy vectorization\n",
    "arr = np.arange(1_000_000)\n",
    "start = time.time()\n",
    "ans = arr ** 2\n",
    "end = time.time()\n",
    "print(f\"Speed: {(end) - (start):.5f} seconds\")"
   ]
  },
  {
   "cell_type": "markdown",
   "id": "fcc62008-3f95-4d6d-94c5-23e50e5842ae",
   "metadata": {},
   "source": [
    "##        Conclusion\n",
    "######  - NumPy is faster tha Python lists because it is optimized in C.\n",
    "######  - NumPy consumes less memory due to efficient storage.\n",
    "######  - NumPy provides vectorized operations.\n",
    "######  - NumPy is essential for data science and machine learning."
   ]
  }
 ],
 "metadata": {
  "kernelspec": {
   "display_name": "Python [conda env:base] *",
   "language": "python",
   "name": "conda-base-py"
  },
  "language_info": {
   "codemirror_mode": {
    "name": "ipython",
    "version": 3
   },
   "file_extension": ".py",
   "mimetype": "text/x-python",
   "name": "python",
   "nbconvert_exporter": "python",
   "pygments_lexer": "ipython3",
   "version": "3.13.5"
  }
 },
 "nbformat": 4,
 "nbformat_minor": 5
}
