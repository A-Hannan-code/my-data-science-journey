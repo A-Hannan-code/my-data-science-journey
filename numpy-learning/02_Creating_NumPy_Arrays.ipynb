{
 "cells": [
  {
   "cell_type": "markdown",
   "id": "d588f81d-8d18-4e00-b9b4-685ffc518e74",
   "metadata": {},
   "source": [
    "## Methods to create arrays"
   ]
  },
  {
   "cell_type": "markdown",
   "id": "2e59cafd-c5dc-4aa1-b26d-ae6460a8fa00",
   "metadata": {},
   "source": [
    "###### 1. np.array()"
   ]
  },
  {
   "cell_type": "code",
   "execution_count": 1,
   "id": "f16b80c2-2095-47f3-8f7c-750dbf4d6cda",
   "metadata": {},
   "outputs": [
    {
     "name": "stdout",
     "output_type": "stream",
     "text": [
      "[1 2 3 4 5]\n",
      "[1 2 3 4 5]\n"
     ]
    }
   ],
   "source": [
    "# Convert Python list/tuple into a Numpy array\n",
    "import numpy as np\n",
    "arr1 = np.array([1,2,3,4,5])  # from list\n",
    "arr2 = np.array((1,2,3,4,5))  # from tuple\n",
    "\n",
    "print(arr1)\n",
    "print(arr1)\n",
    "# when we already have Python data and just want it in NumPy form."
   ]
  },
  {
   "cell_type": "markdown",
   "id": "c6acd470-437c-42c2-a27c-fdd23e955b8c",
   "metadata": {},
   "source": [
    "###### 2. np.arange(start, stop, step)"
   ]
  },
  {
   "cell_type": "code",
   "execution_count": 2,
   "id": "623d4d2e-cf09-4361-ac31-f96e305f950d",
   "metadata": {},
   "outputs": [
    {
     "name": "stdout",
     "output_type": "stream",
     "text": [
      "[1 3 5 7 9]\n"
     ]
    }
   ],
   "source": [
    "arr = np.arange(1,10,2)\n",
    "print(arr)\n",
    "# when we want a range of numbers with fixed steps."
   ]
  },
  {
   "cell_type": "markdown",
   "id": "4837ce4d-00c9-4845-bef4-0fe72264f2a3",
   "metadata": {},
   "source": [
    "###### 3. np.linspace(start, stop, num)"
   ]
  },
  {
   "cell_type": "code",
   "execution_count": 3,
   "id": "b2cd3b99-7d53-4b94-9a21-30bd288327a7",
   "metadata": {},
   "outputs": [
    {
     "name": "stdout",
     "output_type": "stream",
     "text": [
      "[  1.    25.75  50.5   75.25 100.  ]\n"
     ]
    }
   ],
   "source": [
    "arr = np.linspace(1,100,5)\n",
    "print(arr)\n",
    "# when we want fractions/decimal steps, not just integers."
   ]
  },
  {
   "cell_type": "markdown",
   "id": "a9fe04bb-cc68-4f20-a0dd-20a070b4f8f1",
   "metadata": {},
   "source": [
    "###### 4. np.zeros(shape)"
   ]
  },
  {
   "cell_type": "code",
   "execution_count": 4,
   "id": "6d90096f-2212-40f6-82dc-d2fda9e7f232",
   "metadata": {},
   "outputs": [
    {
     "name": "stdout",
     "output_type": "stream",
     "text": [
      "[[0. 0. 0.]\n",
      " [0. 0. 0.]]\n"
     ]
    }
   ],
   "source": [
    "# Array filled with zeros.\n",
    "arr = np.zeros((2,3))\n",
    "print(arr)\n",
    "# Useful for initializing arrays before filling with values."
   ]
  },
  {
   "cell_type": "markdown",
   "id": "57115a16-d352-4f94-8016-17e263d239ec",
   "metadata": {},
   "source": [
    "###### 5. np.ones(shape)"
   ]
  },
  {
   "cell_type": "code",
   "execution_count": 5,
   "id": "9d934a1f-c629-4721-9693-2c6aec40f9fa",
   "metadata": {},
   "outputs": [
    {
     "name": "stdout",
     "output_type": "stream",
     "text": [
      "[[1. 1. 1. 1.]\n",
      " [1. 1. 1. 1.]\n",
      " [1. 1. 1. 1.]]\n"
     ]
    }
   ],
   "source": [
    "# Array filled with ones.\n",
    "arr = np.ones((3,4))\n",
    "print(arr)\n",
    "# Similar to zeros, but with ones."
   ]
  },
  {
   "cell_type": "markdown",
   "id": "97a70c51-8bbc-4ad8-a4b3-268aa11d802e",
   "metadata": {},
   "source": [
    "###### 6. np.full(shape, fill_value)"
   ]
  },
  {
   "cell_type": "code",
   "execution_count": 6,
   "id": "ae18833b-a498-4106-9a2d-762844f66553",
   "metadata": {},
   "outputs": [
    {
     "name": "stdout",
     "output_type": "stream",
     "text": [
      "[[7 7 7]\n",
      " [7 7 7]]\n"
     ]
    }
   ],
   "source": [
    "arr = np.full((2,3), 7)\n",
    "print(arr)"
   ]
  },
  {
   "cell_type": "markdown",
   "id": "34f5007f-33e6-4b63-9637-c3a096397689",
   "metadata": {},
   "source": [
    "###### 7. np.empty(shape)"
   ]
  },
  {
   "cell_type": "code",
   "execution_count": 7,
   "id": "0746498f-0eb9-4457-8f3f-670b5afff93f",
   "metadata": {},
   "outputs": [
    {
     "name": "stdout",
     "output_type": "stream",
     "text": [
      "[[0. 0. 0.]\n",
      " [0. 0. 0.]]\n"
     ]
    }
   ],
   "source": [
    "# Creates an array without setting values (random garbage inside)\n",
    "arr = np.empty((2,3))\n",
    "print(arr)\n",
    "# values are unpredictable."
   ]
  },
  {
   "cell_type": "markdown",
   "id": "e88a6443-ea68-4da7-9518-04933fb66a86",
   "metadata": {},
   "source": [
    "###### 8. np.identity(n)"
   ]
  },
  {
   "cell_type": "code",
   "execution_count": 8,
   "id": "39dea893-e888-4a6e-848f-e8c5b12189ee",
   "metadata": {},
   "outputs": [
    {
     "name": "stdout",
     "output_type": "stream",
     "text": [
      "[[1. 0. 0. 0. 0.]\n",
      " [0. 1. 0. 0. 0.]\n",
      " [0. 0. 1. 0. 0.]\n",
      " [0. 0. 0. 1. 0.]\n",
      " [0. 0. 0. 0. 1.]]\n"
     ]
    }
   ],
   "source": [
    "# Creates a square identity matrix (1s on diagonal).\n",
    "arr = np.identity(5)\n",
    "print(arr)"
   ]
  },
  {
   "cell_type": "markdown",
   "id": "f08a5242-3bad-409f-8b60-f57ceef84f2d",
   "metadata": {},
   "source": [
    "## Checking Array Properties"
   ]
  },
  {
   "cell_type": "code",
   "execution_count": 9,
   "id": "5fdf8fcc-720c-4b59-bfa8-97b205c9a87b",
   "metadata": {},
   "outputs": [
    {
     "data": {
      "text/plain": [
       "array([[ 1,  2,  3],\n",
       "       [ 4,  5,  6],\n",
       "       [ 7,  8,  9],\n",
       "       [10, 11, 12]])"
      ]
     },
     "execution_count": 9,
     "metadata": {},
     "output_type": "execute_result"
    }
   ],
   "source": [
    "import numpy as np\n",
    "arr = np.array([[1,2,3],[4,5,6],[7,8,9],[10,11,12]])\n",
    "arr"
   ]
  },
  {
   "cell_type": "markdown",
   "id": "565e0cf2-e523-4fc2-8cf1-450398a3c471",
   "metadata": {},
   "source": [
    "###### 1. .ndim → Number of Dimensions"
   ]
  },
  {
   "cell_type": "code",
   "execution_count": 10,
   "id": "5a1a6cf1-a4e1-4b6b-a2a7-d9b35e132fed",
   "metadata": {},
   "outputs": [
    {
     "name": "stdout",
     "output_type": "stream",
     "text": [
      "2\n"
     ]
    }
   ],
   "source": [
    "print(arr.ndim)"
   ]
  },
  {
   "cell_type": "markdown",
   "id": "f1aa9d9b-5efd-4bb0-9301-9f4a0a37849e",
   "metadata": {},
   "source": [
    "###### 2. .shape → Shape (dimensions)"
   ]
  },
  {
   "cell_type": "code",
   "execution_count": 11,
   "id": "d6732b6e-ee58-4728-b594-ef91552f5350",
   "metadata": {},
   "outputs": [
    {
     "name": "stdout",
     "output_type": "stream",
     "text": [
      "(4, 3)\n"
     ]
    }
   ],
   "source": [
    "print(arr.shape)"
   ]
  },
  {
   "cell_type": "markdown",
   "id": "93fdc0e1-b0ba-4d7e-96ca-587891142ca5",
   "metadata": {},
   "source": [
    "###### 3. .size → Total Number of Elements"
   ]
  },
  {
   "cell_type": "code",
   "execution_count": 12,
   "id": "f2f27e07-5018-4652-a078-6c56db4ba7e7",
   "metadata": {},
   "outputs": [
    {
     "name": "stdout",
     "output_type": "stream",
     "text": [
      "12\n"
     ]
    }
   ],
   "source": [
    "print(arr.size)"
   ]
  },
  {
   "cell_type": "markdown",
   "id": "4e4d61dd-8385-45d1-bf60-f346fdd60dd9",
   "metadata": {},
   "source": [
    "###### 4. .dtype → Data Type of Elements"
   ]
  },
  {
   "cell_type": "code",
   "execution_count": 13,
   "id": "8bf74570-6633-4a70-9066-007b8d2a59a0",
   "metadata": {},
   "outputs": [
    {
     "name": "stdout",
     "output_type": "stream",
     "text": [
      "int64\n"
     ]
    }
   ],
   "source": [
    "print(arr.dtype)"
   ]
  },
  {
   "cell_type": "markdown",
   "id": "fa54f694-9d6e-4fa7-8767-c45ffc4bd483",
   "metadata": {},
   "source": [
    "###### 5. .nbytes → Total Memory Used"
   ]
  },
  {
   "cell_type": "code",
   "execution_count": 14,
   "id": "2c045f51-c533-4a04-b221-5ff295204bb3",
   "metadata": {},
   "outputs": [
    {
     "data": {
      "text/plain": [
       "96"
      ]
     },
     "execution_count": 14,
     "metadata": {},
     "output_type": "execute_result"
    }
   ],
   "source": [
    "arr.nbytes"
   ]
  },
  {
   "cell_type": "markdown",
   "id": "1bd62d3c-5a9b-4e22-93c8-086ce51031fb",
   "metadata": {},
   "source": [
    "###### 6. .T → Transpose (rows ↔ columns)"
   ]
  },
  {
   "cell_type": "code",
   "execution_count": 15,
   "id": "9000260e-51ae-49b5-bf9c-ef94b6b50187",
   "metadata": {},
   "outputs": [
    {
     "data": {
      "text/plain": [
       "array([[ 1,  4,  7, 10],\n",
       "       [ 2,  5,  8, 11],\n",
       "       [ 3,  6,  9, 12]])"
      ]
     },
     "execution_count": 15,
     "metadata": {},
     "output_type": "execute_result"
    }
   ],
   "source": [
    "arr.T"
   ]
  },
  {
   "cell_type": "markdown",
   "id": "97ad0a91-a92a-4c81-bd9d-e4ebf02868ae",
   "metadata": {},
   "source": [
    "## Changing Data Types"
   ]
  },
  {
   "cell_type": "code",
   "execution_count": 25,
   "id": "ac9b076a-3d3e-4687-8191-89b381aa49eb",
   "metadata": {},
   "outputs": [
    {
     "name": "stdout",
     "output_type": "stream",
     "text": [
      "[1 2 3 4 5]\n",
      "[6.1 7.2 8.3 9.4]\n",
      "Type of [1 2 3 4 5] is: int64\n",
      "Type of [6.1 7.2 8.3 9.4] is: float64\n"
     ]
    }
   ],
   "source": [
    "import numpy as np\n",
    "arr1 = np.array([1,2,3,4,5])\n",
    "arr2 = np.array([6.1,7.2,8.3,9.4])\n",
    "print(arr1)\n",
    "print(arr2)\n",
    "print(f\"Type of {arr1} is: {arr1.dtype}\")\n",
    "print(f\"Type of {arr2} is: {arr2.dtype}\")\n",
    "# dtype means data type of an array"
   ]
  },
  {
   "cell_type": "markdown",
   "id": "1b3d80b1-040a-4c1a-8f04-baea1ea2dd44",
   "metadata": {},
   "source": [
    "###### 1. Convert float → int"
   ]
  },
  {
   "cell_type": "code",
   "execution_count": 26,
   "id": "3f7e20be-ed79-41cd-b09e-f083f710991b",
   "metadata": {},
   "outputs": [
    {
     "name": "stdout",
     "output_type": "stream",
     "text": [
      "[6 7 8 9]\n",
      "int64\n"
     ]
    }
   ],
   "source": [
    "converted = arr2.astype(int)\n",
    "print(converted)\n",
    "print(converted.dtype)\n"
   ]
  },
  {
   "cell_type": "markdown",
   "id": "146cea4b-65b3-40ce-af9b-89058df5bc64",
   "metadata": {},
   "source": [
    "###### 2. Convert int → float"
   ]
  },
  {
   "cell_type": "code",
   "execution_count": 27,
   "id": "c20dfa8b-4a29-40a2-a96c-08d5e098c2fd",
   "metadata": {},
   "outputs": [
    {
     "name": "stdout",
     "output_type": "stream",
     "text": [
      "[1. 2. 3. 4. 5.]\n",
      "float64\n"
     ]
    }
   ],
   "source": [
    "new_arr = arr1.astype(float)\n",
    "print(new_arr)\n",
    "print(new_arr.dtype)"
   ]
  },
  {
   "cell_type": "markdown",
   "id": "764b5cd2-389c-4716-a906-f98e07f3343d",
   "metadata": {},
   "source": [
    "###### 3. Convert numbers → string"
   ]
  },
  {
   "cell_type": "code",
   "execution_count": 28,
   "id": "b27bac44-4684-468b-8e24-b14bc24d4be1",
   "metadata": {},
   "outputs": [
    {
     "name": "stdout",
     "output_type": "stream",
     "text": [
      "['1' '2' '3' '4' '5']\n",
      "<U21\n"
     ]
    }
   ],
   "source": [
    "new_arr = arr1.astype(str)\n",
    "print(new_arr)\n",
    "print(new_arr.dtype)   "
   ]
  },
  {
   "cell_type": "markdown",
   "id": "a59f6764-633c-42f8-a485-95b231987e6d",
   "metadata": {},
   "source": [
    "###### 4. Convert string numbers → int"
   ]
  },
  {
   "cell_type": "code",
   "execution_count": 29,
   "id": "967a593f-da83-43b1-bb27-3a0ab616907d",
   "metadata": {},
   "outputs": [
    {
     "name": "stdout",
     "output_type": "stream",
     "text": [
      "['1' '2' '3' '4' '5']\n",
      "[1 2 3 4 5]\n",
      "int64\n"
     ]
    }
   ],
   "source": [
    "arr = np.array(['1','2','3','4','5'])\n",
    "new_arr = arr.astype(int)\n",
    "print(arr)\n",
    "print(new_arr)\n",
    "print(new_arr.dtype)"
   ]
  },
  {
   "cell_type": "markdown",
   "id": "5ee6f6c5-c5ca-4bc0-b0ed-39371ac64e32",
   "metadata": {},
   "source": [
    "###### 5. np.array() with dtype parameter"
   ]
  },
  {
   "cell_type": "code",
   "execution_count": 30,
   "id": "7a46c256-44f2-4547-a373-e44bb143bab1",
   "metadata": {},
   "outputs": [
    {
     "name": "stdout",
     "output_type": "stream",
     "text": [
      "int64\n"
     ]
    }
   ],
   "source": [
    "arr = np.array([1.2,2.2,3.3,4.5], dtype= int)\n",
    "print(arr.dtype)\n"
   ]
  },
  {
   "cell_type": "markdown",
   "id": "053aa43f-54c1-4ec5-a130-25e83745e8ef",
   "metadata": {},
   "source": [
    "## Reshaping and Flattening Array"
   ]
  },
  {
   "cell_type": "code",
   "execution_count": 31,
   "id": "1eefa12b-0a76-4fd3-901f-62d4d4a472a5",
   "metadata": {},
   "outputs": [
    {
     "name": "stdout",
     "output_type": "stream",
     "text": [
      "int64\n",
      "2\n"
     ]
    }
   ],
   "source": [
    "import numpy as np\n",
    "arr = np.array([[1,2,3,4,5,6],[7,8,9,10,11,12]])\n",
    "print(arr.dtype)\n",
    "print(arr.ndim)"
   ]
  },
  {
   "cell_type": "markdown",
   "id": "9a0bc707-93bf-487c-9add-9d4ec8209d6d",
   "metadata": {},
   "source": [
    "###### 1. Reshaping(d)"
   ]
  },
  {
   "cell_type": "code",
   "execution_count": 32,
   "id": "06bbc505-53d7-4812-96c4-749dbc8e5d7a",
   "metadata": {},
   "outputs": [
    {
     "name": "stdout",
     "output_type": "stream",
     "text": [
      "[[ 1  2  3]\n",
      " [ 4  5  6]\n",
      " [ 7  8  9]\n",
      " [10 11 12]]\n"
     ]
    }
   ],
   "source": [
    "new_arr = arr.reshape((4, 3))\n",
    "print(new_arr)"
   ]
  },
  {
   "cell_type": "markdown",
   "id": "8d8d3fe1-67ea-40b7-94ad-aae1570473a1",
   "metadata": {},
   "source": [
    "##### 2. Flattening"
   ]
  },
  {
   "cell_type": "code",
   "execution_count": 33,
   "id": "b9f8ed88-daf9-45c5-830f-e24eea0f571f",
   "metadata": {},
   "outputs": [
    {
     "name": "stdout",
     "output_type": "stream",
     "text": [
      "[ 1  2  3  4  5  6  7  8  9 10 11 12]\n",
      "1\n"
     ]
    }
   ],
   "source": [
    "# Turns any multi-dimensional array into 1D.\n",
    "flat = arr.flatten()\n",
    "print(flat)\n",
    "print(flat.ndim)\n"
   ]
  }
 ],
 "metadata": {
  "kernelspec": {
   "display_name": "Python [conda env:base] *",
   "language": "python",
   "name": "conda-base-py"
  },
  "language_info": {
   "codemirror_mode": {
    "name": "ipython",
    "version": 3
   },
   "file_extension": ".py",
   "mimetype": "text/x-python",
   "name": "python",
   "nbconvert_exporter": "python",
   "pygments_lexer": "ipython3",
   "version": "3.13.5"
  }
 },
 "nbformat": 4,
 "nbformat_minor": 5
}
