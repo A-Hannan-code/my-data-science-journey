{
 "cells": [
  {
   "cell_type": "markdown",
   "id": "4738f5ad-bae8-448e-9eb4-c2bce8f5e61b",
   "metadata": {},
   "source": [
    "## Built in Mathematical Functions in NumPy"
   ]
  },
  {
   "cell_type": "markdown",
   "id": "94ead0e8-4ba1-44bb-a842-9855ddd57615",
   "metadata": {},
   "source": [
    "###### 1. np.mean()"
   ]
  },
  {
   "cell_type": "code",
   "execution_count": 1,
   "id": "e30d7f77-1f61-4606-8dfc-56774372d7ef",
   "metadata": {},
   "outputs": [
    {
     "name": "stdout",
     "output_type": "stream",
     "text": [
      "4.5\n"
     ]
    }
   ],
   "source": [
    "# The mean is simply the average value of numbers:     formula -->  mean = sum of all values / number of total values.\n",
    "import numpy as np\n",
    "\n",
    "arr = np.array([[1,2,3,4],\n",
    "               [5,6,7,8]])\n",
    "\n",
    "print(arr.mean())\n"
   ]
  },
  {
   "cell_type": "code",
   "execution_count": 2,
   "id": "126f268d-047b-4e00-b9de-2b65b5144006",
   "metadata": {},
   "outputs": [
    {
     "name": "stdout",
     "output_type": "stream",
     "text": [
      "[3. 4. 5. 6.]\n",
      "[2.5 6.5]\n"
     ]
    }
   ],
   "source": [
    "print(np.mean(arr, axis=0)) # axis=0 --> column wise mean   # (1+5)/2 , (2+6)/2 , (3+7)/2 , (4+8)/2 --> mean\n",
    "print(np.mean(arr, axis=1)) # axis=1 --> row wise mean   # (1+2+3+4)/4 , (5+6+7+8)/4 --> mean"
   ]
  },
  {
   "cell_type": "markdown",
   "id": "4b278b36-f523-421d-9b1a-9fc2791f0243",
   "metadata": {},
   "source": [
    "###### 2. np.std   (Standard Deviation)"
   ]
  },
  {
   "cell_type": "code",
   "execution_count": 3,
   "id": "5cc1dc60-3c02-4ebb-adb7-ec11f12fa0a8",
   "metadata": {},
   "outputs": [
    {
     "name": "stdout",
     "output_type": "stream",
     "text": [
      "6.776183783418707\n"
     ]
    }
   ],
   "source": [
    "# std tells you how spread out the data is from the mean.\n",
    "# .. small std --> values are close to the mean\n",
    "# .. large std --> values are spread far from the mean\n",
    "\n",
    "import numpy as np\n",
    "\n",
    "arr = np.array([[10,20,30],\n",
    "               [12,13,14]])\n",
    "\n",
    "print(arr.std())"
   ]
  },
  {
   "cell_type": "code",
   "execution_count": 4,
   "id": "abf405f7-544f-4b57-82f2-e2d6954f69bf",
   "metadata": {},
   "outputs": [
    {
     "name": "stdout",
     "output_type": "stream",
     "text": [
      "[1.  3.5 8. ]\n",
      "[8.16496581 0.81649658]\n"
     ]
    }
   ],
   "source": [
    "print(np.std(arr, axis=0))\n",
    "print(np.std(arr, axis=1))"
   ]
  },
  {
   "cell_type": "markdown",
   "id": "884432b1-461c-40d1-af39-2fb06dd06b5e",
   "metadata": {},
   "source": [
    "###### 3. np.var() --> Variance"
   ]
  },
  {
   "cell_type": "code",
   "execution_count": 5,
   "id": "047c488d-35f4-42bd-a665-e628e7dbe9dc",
   "metadata": {},
   "outputs": [
    {
     "name": "stdout",
     "output_type": "stream",
     "text": [
      "291.6666666666667\n"
     ]
    }
   ],
   "source": [
    "# Variance is basically (standard deviation squared)\n",
    "\n",
    "import numpy as np\n",
    "\n",
    "arr = np.array([[10,20,30],\n",
    "               [40,50,60]])\n",
    "\n",
    "print(arr.var())"
   ]
  },
  {
   "cell_type": "markdown",
   "id": "3a38183e-4084-4152-bb22-078938dbd786",
   "metadata": {},
   "source": [
    "###### 4. np.sum()"
   ]
  },
  {
   "cell_type": "code",
   "execution_count": 6,
   "id": "023001e7-08e4-4fd0-a3ed-0f930485b559",
   "metadata": {},
   "outputs": [
    {
     "name": "stdout",
     "output_type": "stream",
     "text": [
      "36\n"
     ]
    }
   ],
   "source": [
    "# It simply adds up all the elements in an array.\n",
    "import numpy as np\n",
    "\n",
    "arr = np.array([[1,2,3,4],\n",
    "               [5,6,7,8]])\n",
    "\n",
    "print(arr.sum())"
   ]
  },
  {
   "cell_type": "code",
   "execution_count": 7,
   "id": "f0471fa2-9c07-4ea5-ad9f-0693fdd411d8",
   "metadata": {},
   "outputs": [
    {
     "name": "stdout",
     "output_type": "stream",
     "text": [
      "[ 6  8 10 12]\n",
      "[10 26]\n"
     ]
    }
   ],
   "source": [
    "print(np.sum(arr, axis=0))   # column wise \n",
    "print(np.sum(arr, axis=1))   # row wise"
   ]
  },
  {
   "cell_type": "markdown",
   "id": "896dce2b-dace-4b5c-a239-2794fcf4dd9e",
   "metadata": {},
   "source": [
    "###### 5. np.min()  and np.max()"
   ]
  },
  {
   "cell_type": "code",
   "execution_count": 8,
   "id": "1d12e5d5-deae-435a-a22f-bcb5e1513f00",
   "metadata": {},
   "outputs": [
    {
     "name": "stdout",
     "output_type": "stream",
     "text": [
      "1\n",
      "50\n"
     ]
    }
   ],
   "source": [
    "#np.min() → gives the smallest value in the array.\n",
    "# np.max() → gives the largest value in the array.\n",
    "\n",
    "import numpy as np\n",
    "\n",
    "arr = np.array([[1,2,3,4,5],\n",
    "               [10,20,30,40,50]])\n",
    "\n",
    "print(arr.min())\n",
    "print(arr.max())\n"
   ]
  },
  {
   "cell_type": "code",
   "execution_count": 9,
   "id": "27a54535-8665-43f4-b380-d4179b33dced",
   "metadata": {},
   "outputs": [
    {
     "name": "stdout",
     "output_type": "stream",
     "text": [
      "[1 2 3 4 5]\n",
      "[ 5 50]\n"
     ]
    }
   ],
   "source": [
    "print(np.min(arr,axis=0))\n",
    "print(np.max(arr,axis=1))"
   ]
  },
  {
   "cell_type": "markdown",
   "id": "ea2485db-7054-447c-bdcf-52bc9509929a",
   "metadata": {},
   "source": [
    "###### 6. np.prod()"
   ]
  },
  {
   "cell_type": "code",
   "execution_count": 10,
   "id": "c70eae9a-0c32-4bc2-85b5-8d870c7825d1",
   "metadata": {},
   "outputs": [
    {
     "name": "stdout",
     "output_type": "stream",
     "text": [
      "720\n"
     ]
    }
   ],
   "source": [
    "# It multiplies all elements in the array and returns the product.\n",
    "import numpy as np\n",
    "\n",
    "arr = np.array([[1,2,3],\n",
    "               [4,5,6]])\n",
    "\n",
    "print(arr.prod())     #   1*2*3*4*5*6  --> 720"
   ]
  },
  {
   "cell_type": "code",
   "execution_count": 11,
   "id": "5b33d434-8c66-493e-bb29-3ff7b2c322e5",
   "metadata": {},
   "outputs": [
    {
     "name": "stdout",
     "output_type": "stream",
     "text": [
      "[ 4 10 18]\n",
      "[  6 120]\n"
     ]
    }
   ],
   "source": [
    "print(np.prod(arr, axis=0))\n",
    "print(np.prod(arr, axis=1))"
   ]
  },
  {
   "cell_type": "markdown",
   "id": "76ae3e42-3d08-404d-9199-785ba4da80cb",
   "metadata": {},
   "source": [
    "###### 7. np.median()"
   ]
  },
  {
   "cell_type": "code",
   "execution_count": 12,
   "id": "ed3d2d87-aa35-40be-b509-2dbea56087f9",
   "metadata": {},
   "outputs": [
    {
     "name": "stdout",
     "output_type": "stream",
     "text": [
      "Median of all numbers: 7.0\n"
     ]
    }
   ],
   "source": [
    "# What is median????\n",
    "\n",
    "# The median is the number that is exactly in the middle of a list of numbers that has\n",
    "# been put in order from smallest to largest..\n",
    "# ....................................\n",
    "# How to find the median????\n",
    "# . For an odd number of values --> the median is the single number directly in the middle of list.\n",
    "# . For an even number of values --> the median is the average (mean) of two numbers in the middle of list.\n",
    "\n",
    "# ................................................\n",
    "\n",
    "import numpy as np\n",
    "\n",
    "arr = np.array([[1,2,3,4],\n",
    "               [10,20,30,40]])\n",
    "\n",
    "print(f\"Median of all numbers: {np.median(arr)}\")   # middle nums are even (4,10) so: median --> 4+10/2 = 7 "
   ]
  },
  {
   "cell_type": "code",
   "execution_count": 13,
   "id": "5f731f00-6d75-4d76-99d5-00a9eb9b0718",
   "metadata": {},
   "outputs": [
    {
     "name": "stdout",
     "output_type": "stream",
     "text": [
      "[ 5.5 11.  16.5 22. ]\n",
      "[ 2.5 25. ]\n"
     ]
    }
   ],
   "source": [
    "print(np.median(arr,axis=0))\n",
    "print(np.median(arr,axis=1))"
   ]
  },
  {
   "cell_type": "markdown",
   "id": "5107418e-d41c-4fb8-84a0-b6617d138080",
   "metadata": {},
   "source": [
    "###### 8. np.percentile()"
   ]
  },
  {
   "cell_type": "code",
   "execution_count": 14,
   "id": "d2ad879a-288f-4d1d-972e-a471763e4bf4",
   "metadata": {},
   "outputs": [
    {
     "name": "stdout",
     "output_type": "stream",
     "text": [
      "34.0\n"
     ]
    }
   ],
   "source": [
    "# A percentile tells the value below which a certain percentage of data falls.\n",
    " # Example ::: If your score is at the 90th percentile it means 90% of students scored less than you...\n",
    "\n",
    "import numpy as np\n",
    "\n",
    "student_score = np.array([12,67,88,90,89])\n",
    "print(np.percentile(student_score,10))  # it means 10% of people scored less than 34, and 90% scored above 34..."
   ]
  },
  {
   "cell_type": "code",
   "execution_count": 15,
   "id": "f5928ab2-81a8-47cd-b5f7-8ed3d71ad291",
   "metadata": {},
   "outputs": [
    {
     "name": "stdout",
     "output_type": "stream",
     "text": [
      "90th percentile: 89.6 --> 90% of students scored less than 89.6 and the top 10% scored above 89.6.\n"
     ]
    }
   ],
   "source": [
    "P90 = np.percentile(student_score,90)\n",
    "print(f\"90th percentile: {P90} --> 90% of students scored less than {P90} and the top 10% scored above {P90}.\")"
   ]
  },
  {
   "cell_type": "markdown",
   "id": "5ec79c67-356c-4902-9c35-bea8293b3784",
   "metadata": {},
   "source": [
    "###### 9. np.argmin()"
   ]
  },
  {
   "cell_type": "code",
   "execution_count": 16,
   "id": "c39e26fd-d272-4cb5-af98-293a9b6c34bb",
   "metadata": {},
   "outputs": [
    {
     "name": "stdout",
     "output_type": "stream",
     "text": [
      "Minimum value index: 5\n"
     ]
    }
   ],
   "source": [
    "# Argmin() gives you the index of the minimun value in the array\n",
    "\n",
    "import numpy as np\n",
    "\n",
    "arr = np.array([[10,20,30,40,50],\n",
    "               [9,12,13,14,90]])\n",
    "\n",
    "print(f\"Minimum value index: {np.argmin(arr)}\")    # means --> minimum value is 9 at index 5"
   ]
  },
  {
   "cell_type": "markdown",
   "id": "f87a977b-134b-4989-aa29-72b019d052e6",
   "metadata": {},
   "source": [
    "###### 10. argmax()"
   ]
  },
  {
   "cell_type": "code",
   "execution_count": 17,
   "id": "2d926d78-1cdc-4bd9-aebe-25a28db57c23",
   "metadata": {},
   "outputs": [
    {
     "name": "stdout",
     "output_type": "stream",
     "text": [
      "Maximum value index: 6\n"
     ]
    }
   ],
   "source": [
    "# Argmin() gives you the index of the minimun value in the array\n",
    "\n",
    "import numpy as np\n",
    "\n",
    "arr = np.array([[12,13,14,90],\n",
    "               [91,92,93,60]])\n",
    "\n",
    "print(f\"Maximum value index: {np.argmax(arr)}\")   # max is 93 at the index 6"
   ]
  },
  {
   "cell_type": "markdown",
   "id": "d188c874-4110-4117-baa1-d52a05e20bf4",
   "metadata": {},
   "source": [
    "###### 11. corrcoef()   -->  Correlation coefficient"
   ]
  },
  {
   "cell_type": "code",
   "execution_count": 18,
   "id": "a661edc2-d36d-4378-a26c-cb09549115d8",
   "metadata": {},
   "outputs": [
    {
     "name": "stdout",
     "output_type": "stream",
     "text": [
      "[[1. 1.]\n",
      " [1. 1.]]\n"
     ]
    }
   ],
   "source": [
    "# What is corrcoef() ??\n",
    "# It tells you the how strongly two things are related and whether the relationship is positive or negativs?\n",
    "\n",
    "# . If correlation = +1 (positive) --> whenever one goes up other also goes up perfectly...\n",
    "# . If correlation = -1 (negative) --> whenever one goes up other goes down perfectly...\n",
    "\n",
    "# The function correcoef() gives a correlation matrix : [[(x,x) (x,y) ]\n",
    "#                                                        [ (y,x) (y,y) ]]\n",
    "\n",
    "import numpy as np\n",
    "\n",
    "x = np.array([1,2,3,4,5])\n",
    "y = np.array([6,7,8,9,10])\n",
    "\n",
    "# Perfect positive relation..........\n",
    "print(np.corrcoef(x,y))"
   ]
  },
  {
   "cell_type": "code",
   "execution_count": 19,
   "id": "68a7f87b-66d1-46b3-b033-ec5c04b9c34c",
   "metadata": {},
   "outputs": [
    {
     "name": "stdout",
     "output_type": "stream",
     "text": [
      "[[1.         0.69100496]\n",
      " [0.69100496 1.        ]]\n"
     ]
    }
   ],
   "source": [
    "z = np.array([10,20,12,11,90])\n",
    "# Perfect negative relation..........\n",
    "print(np.corrcoef(y,z))"
   ]
  },
  {
   "cell_type": "markdown",
   "id": "e4c29ccb-0dee-4781-b26c-f4d9e9d02908",
   "metadata": {},
   "source": [
    "###### 12. np.unique()  --> Uniqe elements"
   ]
  },
  {
   "cell_type": "code",
   "execution_count": 20,
   "id": "e1fb1cb0-faa0-47e8-bfc9-a64e427cfeed",
   "metadata": {},
   "outputs": [
    {
     "name": "stdout",
     "output_type": "stream",
     "text": [
      "[ 1  2  3  4  5  6 20 30]\n"
     ]
    }
   ],
   "source": [
    "# It returns the unique (non-duplicate) values from an array\n",
    "\n",
    "import numpy as np\n",
    "\n",
    "arr = np.array([[1,2,3,4,5,6],\n",
    "               [1,20,30,6,5,3]])\n",
    "\n",
    "print(np.unique(arr))"
   ]
  },
  {
   "cell_type": "markdown",
   "id": "a46a0742-0464-4ab2-8237-aafa3e79079d",
   "metadata": {},
   "source": [
    "###### 13. np.cumsum() --> Cumulative sum"
   ]
  },
  {
   "cell_type": "code",
   "execution_count": 21,
   "id": "5aac95e7-6a97-44b5-a541-306f2b1380bb",
   "metadata": {},
   "outputs": [
    {
     "name": "stdout",
     "output_type": "stream",
     "text": [
      "[ 10  30  60 100]\n"
     ]
    }
   ],
   "source": [
    "# It adds the numbers step by step and gives you all the running totals instead of just one final sum...\n",
    "\n",
    "import numpy as np\n",
    "\n",
    "arr = np.array([10,20,30,40])\n",
    "\n",
    "print(arr.cumsum())   # first element (10) then (10+20) then (10+20+30) and so on..."
   ]
  },
  {
   "cell_type": "code",
   "execution_count": 22,
   "id": "726e58cb-09d3-4f89-97c5-c94e99c39edd",
   "metadata": {},
   "outputs": [
    {
     "name": "stdout",
     "output_type": "stream",
     "text": [
      "[[ 1  2  3  4]\n",
      " [ 6  8 10 12]]\n",
      "[[ 1  3  6 10]\n",
      " [ 5 11 18 26]]\n"
     ]
    }
   ],
   "source": [
    "# cumcum with 2D:::\n",
    "arr = np.array([[1,2,3,4],\n",
    "               [5,6,7,8]])\n",
    "\n",
    "print(np.cumsum(arr,axis=0))  \n",
    "print(np.cumsum(arr,axis=1))"
   ]
  },
  {
   "cell_type": "markdown",
   "id": "c28d19d3-266a-4580-bda1-badfb47b5881",
   "metadata": {},
   "source": [
    "###### 14. np.diff()  --> difference"
   ]
  },
  {
   "cell_type": "code",
   "execution_count": 23,
   "id": "eef95685-c2f3-4537-84bc-4db4349e4913",
   "metadata": {},
   "outputs": [
    {
     "name": "stdout",
     "output_type": "stream",
     "text": [
      "[ 10  10 -15  -3]\n"
     ]
    }
   ],
   "source": [
    "# It tells how much step-by-step change is happening in an array.....\n",
    "import numpy as np\n",
    "\n",
    "arr = np.array([10,20,30,15,12])\n",
    "\n",
    "print(np.diff(arr))"
   ]
  },
  {
   "cell_type": "code",
   "execution_count": 24,
   "id": "44b442c7-b702-4bc5-95fe-2e6b166e0ca8",
   "metadata": {},
   "outputs": [
    {
     "name": "stdout",
     "output_type": "stream",
     "text": [
      "[[ 1  1]\n",
      " [10 10]]\n",
      "[[-2  7 16]]\n"
     ]
    }
   ],
   "source": [
    "# np.diff() with 2D::::\n",
    "\n",
    "arr = np.array([[12,13,14],\n",
    "               [10,20,30]])\n",
    "\n",
    "print(np.diff(arr,axis=1))\n",
    "print(np.diff(arr,axis=0))\n"
   ]
  },
  {
   "cell_type": "markdown",
   "id": "02de58d5-2672-46c3-9d1c-8285c102bab8",
   "metadata": {},
   "source": [
    "###### 15. np.linspace() --> linspace(start,stop,num)"
   ]
  },
  {
   "cell_type": "code",
   "execution_count": 25,
   "id": "c1485118-f306-41ab-bc86-0cefa2b4edd7",
   "metadata": {},
   "outputs": [
    {
     "name": "stdout",
     "output_type": "stream",
     "text": [
      "[[12 13 14]\n",
      " [10 20 30]]\n",
      "Array: [ 1.          3.66666667  6.33333333  9.         11.66666667 14.33333333\n",
      " 17.         19.66666667 22.33333333 25.        ]\n",
      "Step: 2.6666666666666665\n"
     ]
    }
   ],
   "source": [
    "# It creates an array with evenly spaced numbers....\n",
    "\n",
    "import numpy as np\n",
    "\n",
    "arr1 = np.linspace(0, 18, 5)  # start from (0) stop at (18) and give me evenly spaced (5) numbers..\n",
    "print(arr)\n",
    "\n",
    "# ..............\n",
    "\n",
    "arr2, step = np.linspace(1, 25, 10, retstep=True)    # restep=True will show the spacing (step size)\n",
    "print(f\"Array: {arr2}\")\n",
    "print(f\"Step: {step}\")"
   ]
  },
  {
   "cell_type": "markdown",
   "id": "712b8912-cf44-46b7-86b1-c4acdd4b8476",
   "metadata": {},
   "source": [
    "###### 16. np.log()  --> logarithm"
   ]
  },
  {
   "cell_type": "code",
   "execution_count": 26,
   "id": "06a7ba29-49d8-4b65-94c7-494ca512ff1d",
   "metadata": {},
   "outputs": [
    {
     "name": "stdout",
     "output_type": "stream",
     "text": [
      "[2.30258509 4.60517019 6.90775528 2.99573227]\n"
     ]
    }
   ],
   "source": [
    "# What is log?\n",
    "# The power to which a base number must be raised to get another number..\n",
    "# A logarithm reverses this by asking: \"What power do you need to raise 10 to in order to get 100?\"\n",
    "# The power of natural log is --> ln(x) = e = 2.718\n",
    "\n",
    "import numpy as np\n",
    "\n",
    "arr = np.array([10,100,1000,20])\n",
    "\n",
    "print(np.log(arr))"
   ]
  },
  {
   "cell_type": "markdown",
   "id": "0d1ff66d-3e57-4207-8405-2c7ea52e5d53",
   "metadata": {},
   "source": [
    "###### 17. np.exp()  --> exponential of an array"
   ]
  },
  {
   "cell_type": "code",
   "execution_count": 27,
   "id": "4a12829a-e34d-4e52-8937-a30788f96db2",
   "metadata": {},
   "outputs": [
    {
     "name": "stdout",
     "output_type": "stream",
     "text": [
      "22026.465794806718\n",
      "10.0\n"
     ]
    }
   ],
   "source": [
    "# exp grows a number very fast ---> if i do exp of np.exp(5) it will be like this --> 2.718 and it's power 5 \n",
    "\n",
    "# and if I want the number back in compressed form I'll go with log()\n",
    "\n",
    "import numpy as np\n",
    "\n",
    "x = 10\n",
    "\n",
    "print(np.exp(x))\n",
    "print(np.log(np.exp(x)))"
   ]
  },
  {
   "cell_type": "code",
   "execution_count": null,
   "id": "c604dc00-7937-4037-866d-0eea13f3e11e",
   "metadata": {},
   "outputs": [],
   "source": []
  }
 ],
 "metadata": {
  "kernelspec": {
   "display_name": "Python [conda env:base] *",
   "language": "python",
   "name": "conda-base-py"
  },
  "language_info": {
   "codemirror_mode": {
    "name": "ipython",
    "version": 3
   },
   "file_extension": ".py",
   "mimetype": "text/x-python",
   "name": "python",
   "nbconvert_exporter": "python",
   "pygments_lexer": "ipython3",
   "version": "3.13.5"
  }
 },
 "nbformat": 4,
 "nbformat_minor": 5
}
